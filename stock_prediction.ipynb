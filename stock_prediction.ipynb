{
 "cells": [
  {
   "cell_type": "code",
   "execution_count": null,
   "metadata": {},
   "outputs": [],
   "source": [
    "import pandas as pd\n",
    "import matplotlib.pyplot as plt\n",
    "import numpy as np\n",
    "import tensorflow as tf\n",
    "from tensorflow import keras\n",
    "import seaborn as sns\n",
    "import os\n",
    "from datetime import datetime\n",
    "\n",
    "import warnings\n",
    "warnings.filterwarnings(\"ignore\")"
   ]
  },
  {
   "cell_type": "code",
   "execution_count": null,
   "metadata": {},
   "outputs": [],
   "source": [
    "data = pd.read_csv('all_stocks_5yr.csv')\n",
    "print(data.shape)\n",
    "print(data.sample(7))\n"
   ]
  },
  {
   "cell_type": "code",
   "execution_count": null,
   "metadata": {},
   "outputs": [],
   "source": [
    "data.info()"
   ]
  },
  {
   "cell_type": "code",
   "execution_count": null,
   "metadata": {},
   "outputs": [],
   "source": [
    "data['date'] = pd.to_datetime(data['date'])\n",
    "data.info()\n"
   ]
  },
  {
   "cell_type": "code",
   "execution_count": null,
   "metadata": {},
   "outputs": [],
   "source": [
    "data['date'] = pd.to_datetime(data['date'])\n",
    "# date vs open\n",
    "# date vs close\n",
    "plt.figure(figsize=(15, 8))\n",
    "companies = data['Name'].unique()\n",
    "n = min(len(companies), 16)\n",
    "for index, company in enumerate(companies[:n], 1):\n",
    "    plt.subplot(4, 4, index)\n",
    "    c = data[data['Name'] == company]\n",
    "    plt.plot(c['date'], c['close'], c=\"r\", label=\"close\", marker=\"+\")\n",
    "    plt.plot(c['date'], c['open'], c=\"g\", label=\"open\", marker=\"^\")\n",
    "    plt.title(company)\n",
    "    plt.legend()\n",
    "\n",
    "plt.tight_layout()\n",
    "plt.show()"
   ]
  },
  {
   "cell_type": "code",
   "execution_count": null,
   "metadata": {},
   "outputs": [],
   "source": [
    "plt.figure(figsize=(15, 8))\n",
    "for index, company in enumerate(companies[:n], 1):\n",
    "\t\tplt.subplot(4, 4, index)\n",
    "\t\tc = data[data['Name'] == company]\n",
    "\t\tplt.plot(c['date'], c['volume'], c='purple', marker='*')\n",
    "\t\tplt.title(f\"{company} Volume\")\n",
    "\t\tplt.tight_layout()\n"
   ]
  },
  {
   "cell_type": "code",
   "execution_count": null,
   "metadata": {},
   "outputs": [],
   "source": [
    "apple = data[data['Name'] == 'AAPL']\n",
    "prediction_range = apple.loc[(apple['date'] > datetime(2013,1,1))\n",
    "& (apple['date']<datetime(2018,1,1))]\n",
    "plt.plot(apple['date'],apple['close'])\n",
    "plt.xlabel(\"Date\")\n",
    "plt.ylabel(\"Close\")\n",
    "plt.title(\"Apple Stock Prices\")\n",
    "plt.show()\n"
   ]
  },
  {
   "cell_type": "code",
   "execution_count": null,
   "metadata": {},
   "outputs": [],
   "source": [
    "close_data = apple.filter(['close'])\n",
    "dataset = close_data.values\n",
    "training = int(np.ceil(len(dataset) * .95))\n",
    "print(training)\n"
   ]
  },
  {
   "cell_type": "code",
   "execution_count": null,
   "metadata": {},
   "outputs": [],
   "source": [
    "from sklearn.preprocessing import MinMaxScaler\n",
    "\n",
    "scaler = MinMaxScaler(feature_range=(0, 1))\n",
    "scaled_data = scaler.fit_transform(dataset)\n",
    "\n",
    "train_data = scaled_data[0:int(training), :]\n",
    "# prepare feature and labels\n",
    "x_train = []\n",
    "y_train = []\n",
    "\n",
    "for i in range(60, len(train_data)):\n",
    "\tx_train.append(train_data[i-60:i, 0])\n",
    "\ty_train.append(train_data[i, 0])\n",
    "\n",
    "x_train, y_train = np.array(x_train), np.array(y_train)\n",
    "x_train = np.reshape(x_train, (x_train.shape[0], x_train.shape[1], 1))\n"
   ]
  },
  {
   "cell_type": "code",
   "execution_count": null,
   "metadata": {},
   "outputs": [],
   "source": [
    "model = keras.models.Sequential()\n",
    "model.add(keras.layers.LSTM(units=64,\n",
    "\t\t\t\t\t\t\treturn_sequences=True,\n",
    "\t\t\t\t\t\t\tinput_shape=(x_train.shape[1], 1)))\n",
    "model.add(keras.layers.LSTM(units=64))\n",
    "model.add(keras.layers.Dense(32))\n",
    "model.add(keras.layers.Dropout(0.5))\n",
    "model.add(keras.layers.Dense(1))\n",
    "model.summary\n"
   ]
  },
  {
   "cell_type": "code",
   "execution_count": null,
   "metadata": {},
   "outputs": [],
   "source": [
    "model.compile(optimizer='adam',\n",
    "\t\t\tloss='mean_squared_error')\n",
    "history = model.fit(x_train,\n",
    "\t\t\t\t\ty_train,\n",
    "\t\t\t\t\tepochs=10)\n"
   ]
  },
  {
   "cell_type": "code",
   "execution_count": null,
   "metadata": {},
   "outputs": [],
   "source": [
    "test_data = scaled_data[training - 60:, :]\n",
    "x_test = []\n",
    "y_test = dataset[training:, :]\n",
    "for i in range(60, len(test_data)):\n",
    "\tx_test.append(test_data[i-60:i, 0])\n",
    "\n",
    "x_test = np.array(x_test)\n",
    "x_test = np.reshape(x_test, (x_test.shape[0], x_test.shape[1], 1))\n",
    "\n",
    "# predict the testing data\n",
    "predictions = model.predict(x_test)\n",
    "predictions = scaler.inverse_transform(predictions)\n",
    "\n",
    "# evaluation metrics\n",
    "mse = np.mean(((predictions - y_test) ** 2))\n",
    "print(\"MSE\", mse)\n",
    "print(\"RMSE\", np.sqrt(mse))\n"
   ]
  },
  {
   "cell_type": "code",
   "execution_count": null,
   "metadata": {},
   "outputs": [],
   "source": [
    "train = apple[:training]\n",
    "test = apple[training:]\n",
    "test['Predictions'] = predictions\n",
    "\n",
    "plt.figure(figsize=(10, 8))\n",
    "plt.plot(train['date'], train['close'])\n",
    "plt.plot(test['date'], test[['close', 'Predictions']])\n",
    "plt.title('Apple Stock Close Price')\n",
    "plt.xlabel('date')\n",
    "plt.ylabel(\"close\")\n",
    "plt.legend(['Train', 'Test', 'Predictions'])\n"
   ]
  }
 ],
 "metadata": {
  "language_info": {
   "name": "python"
  }
 },
 "nbformat": 4,
 "nbformat_minor": 2
}
